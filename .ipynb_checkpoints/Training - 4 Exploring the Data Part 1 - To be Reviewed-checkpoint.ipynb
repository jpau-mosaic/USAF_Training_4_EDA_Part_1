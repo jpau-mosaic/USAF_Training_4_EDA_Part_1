{
 "cells": [
  {
   "cell_type": "markdown",
   "metadata": {},
   "source": [
    "# Introduction"
   ]
  },
  {
   "cell_type": "markdown",
   "metadata": {},
   "source": [
    "So we have done a bulk of the work in getting the data ready to be analyzed. In most situations and with most datasets, this part of the process is will always signifcant chunk of time and energy as real world data tends to be messy. With incorrect data entry to faulty sensors, you never know what kind of information you will get. Thus, cleaning the data is imperative and necessary prior to analyzing it. \n",
    "\n",
    "Now that the data is clean, let's look at it. During this notebook we will explore the data, ask some questions about the data and wrangle it, making useful columns and variables. "
   ]
  },
  {
   "cell_type": "markdown",
   "metadata": {},
   "source": [
    "# Import & Ingest"
   ]
  },
  {
   "cell_type": "markdown",
   "metadata": {},
   "source": [
    "As part of this notebook, we are going to being visualizing some of the data as sometimes visualizing the data makes it easier to process the data. For this notebook, we will also slice and dice the same data differently to demonstrate some of the nuances for each kind of visualization. The library that we are going to use is matplotlib. There are many other visualization libraries like plotly, bokeh, and seaborn which are all quite popular as well."
   ]
  },
  {
   "cell_type": "code",
   "execution_count": 1,
   "metadata": {},
   "outputs": [],
   "source": [
    "# Import Libraries\n",
    "\n",
    "import pandas as pd\n",
    "import matplotlib.pyplot as plt\n",
    "import plotly.express as px\n",
    "import plotly.graph_objects as go"
   ]
  },
  {
   "cell_type": "markdown",
   "metadata": {},
   "source": [
    "Let's start by importing our clean data called clean_data.csv"
   ]
  },
  {
   "cell_type": "code",
   "execution_count": null,
   "metadata": {},
   "outputs": [],
   "source": [
    "# ExerciseLet's\n",
    "\n",
    "filepath = None\n",
    "df = None"
   ]
  },
  {
   "cell_type": "code",
   "execution_count": 2,
   "metadata": {},
   "outputs": [],
   "source": [
    "# Answer\n",
    "filepath = r'/home/jovyan/clean_data.csv'\n",
    "df = pd.read_csv(filepath)"
   ]
  },
  {
   "cell_type": "markdown",
   "metadata": {},
   "source": [
    "# EDA"
   ]
  },
  {
   "cell_type": "markdown",
   "metadata": {},
   "source": [
    "Now that we have imported the data, let's explore it a little bit. Let's start with looking at the airport column. Let's list out all the unique values in the airport and the destination airport columns. "
   ]
  },
  {
   "cell_type": "code",
   "execution_count": 4,
   "metadata": {},
   "outputs": [
    {
     "name": "stdout",
     "output_type": "stream",
     "text": [
      "None\n",
      "None\n"
     ]
    }
   ],
   "source": [
    "# Exercise \n",
    "\n",
    "unique_airports = None\n",
    "unique_destination_airports = None\n",
    "print(unique_airports)\n",
    "print(unique_destination_airports)"
   ]
  },
  {
   "cell_type": "code",
   "execution_count": 3,
   "metadata": {},
   "outputs": [
    {
     "name": "stdout",
     "output_type": "stream",
     "text": [
      "['KMIA' 'KMEM' 'KDFW' 'KHOU' 'KATL' 'KLAX' 'KSTL' 'KCLT' 'KORD' 'KMDW'\n",
      " 'KDTW' 'KLAS' 'KBOS' 'KSAN' 'KIAH' 'KPHX' 'KJFK' 'KDCA' 'KSEA' 'KEWR'\n",
      " 'KLGA' 'KSLC' 'KBWI' 'KFLL' 'KDEN' 'KPHL' 'KMSP' 'KMCO' 'KSNA' 'KIAD'\n",
      " 'KMKE' 'KSDF' 'KBDL' 'KPVD']\n",
      "['KMIA' 'KMEM' 'KDFW' 'KHOU' 'KPDX' 'KIAH' 'KSTL' 'KCLT' 'KORD' 'KDEN'\n",
      " 'KDLH' 'KLAX' 'KDTW' 'KLAS' 'KSMF' 'KMSY' 'KPHX' 'KJFK' 'KMKE' 'KDCA'\n",
      " 'SBEG' 'KEWR' 'KMSP' 'EGLL' 'KSAN' 'KBWI' 'KLGA' 'KATL' 'MMMX' 'KFLL'\n",
      " 'KSEA' 'KPHL' 'CYVR' 'KTPA' 'KSFO' 'KMCO' 'KBOS' 'MGGT' 'PHOG' 'KSNA'\n",
      " 'KRNO' 'KSLC' 'LEMD' 'KMDW' 'KCRW' 'KMSN' 'MKJS' 'KGRR' 'KBNA' 'MDSD'\n",
      " 'KCLE' 'KCMH' 'KIAD' 'PHLI' 'MUHA' 'KAUS' 'EDDT' 'KDAL' 'KSDF' 'KPBI'\n",
      " 'KABQ' 'TXKF' 'LFPG' 'MMUN' 'KELP' 'KFSD' 'KSAV' 'KRSW' 'KRAP' 'EDDF'\n",
      " 'TKPK' 'KCHO' 'SYCJ' 'SEQM' 'KIND' 'SKBO' 'TTPP' 'KBUF' 'KOAK' 'KHRL'\n",
      " 'KJAC' 'KEGE' 'EBBR' 'KSAT' 'MBPV' 'KPIT' 'TNCC' 'KBTV' 'SBGL' 'KCHS'\n",
      " 'EGCC' 'KJAX' 'KORF' 'KICT' 'KSJC' 'KMCI' 'EIDW' 'KTUS' 'MSLP' 'EHAM'\n",
      " 'LIRF' 'KBDL' 'KRIC' 'SEGU' 'KRDU' 'MMGL' 'KTUL' 'CYUL' 'KMFE' 'KBZN'\n",
      " 'TJSJ' 'CYYZ' 'KDSM' 'PHKO' 'KBHM' 'KCRP' 'KLBB' 'KALB' 'KMDT' 'KPSP'\n",
      " 'SAEZ' 'KGSO' 'KSRQ' 'GOBD' 'KPVD' 'TJBQ' 'KBUR' 'KBFM' 'LSZH' 'SBGR'\n",
      " 'KGEG' 'PHNL' 'KONT' 'PHTO' 'MDPC' 'KSYR' 'KPWM' 'KOKC' 'KCOS' 'MPTO'\n",
      " 'KVPS' 'KHPN' 'MWCR' 'KCVG' 'LPPT' 'KMAF' 'KBIS' 'MMMD' 'KMFR' 'KAVP'\n",
      " 'KOMA' 'CYYC' 'LEBL' 'VABB' 'KBIL' 'KGPI' 'VIDP' 'KROA' 'MROC' 'KILM'\n",
      " 'MDST' 'EDDM' 'KEUG' 'KMSO' 'KMLB' 'KMYR' 'KBOI' 'YSSY' 'KGPT' 'PANC'\n",
      " 'KMHT' 'KISP' 'KSBA' 'KGSP' 'KFAR' 'KROC' 'PAFA' 'KLIT' 'SCEL' 'KDAY'\n",
      " 'DNMM' 'KDAB' 'KECP' 'KHSV' 'SACO' 'KCID' 'SUMU' 'SPJC' 'LLBG' 'RKSI'\n",
      " 'YMML' 'NZAA' 'MTPP' 'MYNN' 'MKJP' 'RJAA' 'MMSD' 'TIST' 'MMPR' 'TNCA'\n",
      " 'MZBZ' 'MRLB' 'TBPB' 'TNCM' 'TAPA' 'TLPL' 'KEYW' 'MHTG' 'MDPP' 'KPNS'\n",
      " 'KHDN' 'KMTJ' 'SKCG' 'MHLM' 'KFAT' 'ZSPD' 'SKBQ' 'MHRO' 'MNMG' 'TVSA'\n",
      " 'MMCZ' 'TGPY' 'SKRG' 'ZBAA' 'KMHK' 'VHHH' 'RJTT' 'TISX' 'KGNV' 'KGUC'\n",
      " 'KLGB' 'MTCH' 'KLEX' 'CYWG' 'KAMA' 'LIMC' 'SBBR' 'KJAN' 'SKCL' 'LSGG'\n",
      " 'FAOR' 'MMMY' 'KFAY' 'KATW' 'FACT' 'CYEG' 'KINT' 'EGPH' 'KTLH' 'KPAE'\n",
      " 'KILN' 'KTCL' 'SKPE' 'RJGG' 'KBIF' 'EDDS' 'KBED' 'EDDL' 'KGRB' 'DGAA'\n",
      " 'TNCB' 'KGUS' 'KCWF' 'KLCQ' 'MMZH' 'KXNA' 'KPOB' 'KGRK' 'KCAE' 'EDFH'\n",
      " 'KCHA' 'KAGS' 'KLFT' 'KTYS' 'KTVC' 'KVQQ' 'KPIA' 'KCAK' 'KFNT' 'KROW'\n",
      " 'KAVL' 'KTRI' 'KMOB' 'KABE' 'KNKT' 'KSUU' 'KCPS' 'KLAN' 'TFFF' 'KAHN'\n",
      " 'KAEX' 'KMZJ' 'KFRG' 'KUNV' 'KLNK' 'KNGU' 'KBTR' 'MMQT' 'KGYR' 'KADW'\n",
      " 'KSVN' 'KHOP' 'CYOW' 'KPTK' 'KVCV' 'RJCK' 'MMMZ' 'KGTB' 'KLAF' 'KNJK'\n",
      " 'KRIV' 'KSBN' 'MUGM' 'KRDG' 'KBYH' 'PGUM' 'KMGM' 'KFTW' 'KTUP' 'KPHF'\n",
      " 'KMWH' 'KNKX' 'KNYL' 'KSBD' 'ENVA' 'KFHU' 'KBFI' 'KNPA' 'KLSF' 'KRFD'\n",
      " 'KSKF' 'KAPN' 'KWRI' 'KLSE' 'KLAW' 'KSGF' 'KTIK' 'KHIF' 'KTBN' 'KMUO'\n",
      " 'KOAJ' 'KSSC' 'CYXY' 'KVAD' 'KFOE' 'PAJN' 'KDOV' 'MMLO' 'KAFW' 'KNTD'\n",
      " 'KCMI' 'LBSF' 'KMKC' 'LRCK' 'KLCK' 'EDDN' 'ETAR' 'KBKL' 'KGSB' 'EGPF'\n",
      " 'KSLN' 'KHRT']\n"
     ]
    }
   ],
   "source": [
    "# Answer\n",
    "\n",
    "unique_airports = df['airport'].unique()\n",
    "unique_destination_airports = df['destination_airport'].unique()\n",
    "print(unique_airports)\n",
    "print(unique_destination_airports)"
   ]
  },
  {
   "cell_type": "markdown",
   "metadata": {},
   "source": [
    "The first thing we notice is that in the airport column, all of the values start with the letter K. Because we know that we are looking at 4 US-Based airlines and because the 3 following letters are all common airport names, we can infer that all of these must be US airports. With a little bit of background knowledge about airport, it actually turns out that all US airports in the continental US and be idetenfied by the 'K' as the first character in the airport name. \n",
    "\n",
    "However, in the departure and destination airport columns, we see a whole host of airports from around the world as there are airports that don't start with the letter K. That makes sense because we are only looking at US based airlines who tend to operate in the US but do on occasion fly to other countries. We can use this knowledge to create a variable to determine if a flight is local or international which may be interesting to look at. "
   ]
  },
  {
   "cell_type": "code",
   "execution_count": 4,
   "metadata": {},
   "outputs": [],
   "source": [
    "df['type_of_flight'] = 'local'\n",
    "df.loc[(df['destination_airport'].str[0] != 'K') | (df['departure_airport'].str[0] != 'K'),'type_of_flight'] = 'international'"
   ]
  },
  {
   "cell_type": "markdown",
   "metadata": {},
   "source": [
    "You'll notice that we first set the new column called type_of_flight to the value of 'local' and then overwrite it when there is an international flight. \n",
    "\n",
    "Next let's look at the call sign column. The call signs are used to identify themselves. We know that generally the first 3 characters of the call sign indicate which airlines they are from. So let's look at which airlines are represented here."
   ]
  },
  {
   "cell_type": "code",
   "execution_count": 5,
   "metadata": {},
   "outputs": [
    {
     "data": {
      "text/plain": [
       "array(['UAL', 'AAL', 'SWA', 'DAL'], dtype=object)"
      ]
     },
     "execution_count": 5,
     "metadata": {},
     "output_type": "execute_result"
    }
   ],
   "source": [
    "df['call_sign'].str[:3].unique()"
   ]
  },
  {
   "cell_type": "markdown",
   "metadata": {},
   "source": [
    "One thing you'll notice in this code here is that we used the str operator again. The brackets that follow [:3] indicate that we only want the first 3 letters. Because python is zero indexed, the [:3] will take the 0th, 1st, and 2nd character. In other words up to the 3rd character in the string. For more information about this, you can look here, https://realpython.com/python-strings/.\n",
    "\n",
    "To understand this a bit better, let's do a quick exercise. How would you find the last 2 characters in the call_sign column?"
   ]
  },
  {
   "cell_type": "code",
   "execution_count": 8,
   "metadata": {},
   "outputs": [],
   "source": [
    "# Exercise\n",
    "unique = None\n",
    "unique"
   ]
  },
  {
   "cell_type": "code",
   "execution_count": 14,
   "metadata": {},
   "outputs": [
    {
     "data": {
      "text/plain": [
       "array(['81', '96', '46', '1', '48', '21', '8', '24', '52', '3', '09',\n",
       "       '73', '49', '87', '79', '31', '94', '58', '17', '54', '34', '6',\n",
       "       '72', '85', '80', '', '91', '65', '2', '16', '9', '74', '57', '51',\n",
       "       '0', '28', '67', '4', '95', '06', '27', '10', '69', '7', '36',\n",
       "       '89', '00', '84', '59', '76', '63', '12', '32', '23', '66', '97',\n",
       "       '35', '19', '30', '75', '77', '07', '22', '13', '88', '43', '01',\n",
       "       '39', '04', '20', '64', '47', '98', '14', '33', '60', '41', '15',\n",
       "       '93', '61', '90', '40', '45', '56', '38', '78', '5', '03', '82',\n",
       "       '05', '29', '44', '25', '92', '99', '71', '02', '68', '11', '50',\n",
       "       '26', '55', '70', '83', '62', '08', '86', '18', '42', '53', '37',\n",
       "       '2R', '4R', '0D', '5R', '9P', '1Q', '1P', '3P', '8T', '6T', '4Q',\n",
       "       '7Q', '0T', '1T', '4L', '5Q', '5P', '0R', 'P', '6P', '2T', '9Q',\n",
       "       '0K', 'Q', '3T', '9T', '5T', '5L', '2L', '4T', '8L', '6K', '6D',\n",
       "       '1D', '4P', '6L', '7R', '7T', '6C', '3K', '6J', 'D', '1K', '9K',\n",
       "       '8J', '8P', '2P', '0L', 'R', '2K', '8D', '8R', '5J', '8K', '4J',\n",
       "       '8Q', '1J', '1R', '9A', '9R', '6Q', 'A', '5K', '3Q', '6R', '2U',\n",
       "       '2Q', '5A', '3C', '0C', '4A', '5C', '8A', '4D', '3R', '7D', '7K',\n",
       "       '0Q', '2A', '0A', '6A', '7P', '0P', '5D', '3A', '9J', '7J', '7A',\n",
       "       '9L', '1A', '9D', '1C', '2C', '2J', '8C', '5G', '4C', '9C', 'E',\n",
       "       '4K', '0S', '9B', '0B', '4B', '2D', 'C'], dtype=object)"
      ]
     },
     "execution_count": 14,
     "metadata": {},
     "output_type": "execute_result"
    }
   ],
   "source": [
    "# Answer\n",
    "unique = df['call_sign'].str[5:].unique()\n",
    "unique"
   ]
  },
  {
   "cell_type": "markdown",
   "metadata": {},
   "source": [
    "Alright, back to the airport data. We see that there are 4 different airlines: United, Delta, Southwest and American Airlines. Let's make a separate column so that this data can be used later. so let's do that."
   ]
  },
  {
   "cell_type": "code",
   "execution_count": 10,
   "metadata": {},
   "outputs": [],
   "source": [
    "# Exercise\n",
    "\n",
    "df['airline'] = None"
   ]
  },
  {
   "cell_type": "code",
   "execution_count": 7,
   "metadata": {},
   "outputs": [],
   "source": [
    "# Answer\n",
    "\n",
    "df['airline'] = df['call_sign'].str[:3]"
   ]
  },
  {
   "cell_type": "markdown",
   "metadata": {},
   "source": [
    "Now that we have created some columns that might be useful, let's ask ourselves some questions and try to answer them with the data. This allows us to gain a greater intuitive understanding of the data."
   ]
  },
  {
   "cell_type": "markdown",
   "metadata": {},
   "source": [
    "### What are the busiest airports?"
   ]
  },
  {
   "cell_type": "markdown",
   "metadata": {},
   "source": [
    "To answer this question, let's look at which airport has the most landings and takeoffs. To do this, we are going to group the observations by airport and then do a couple on each bucket. Then we will plot this data, sorted by busiest. "
   ]
  },
  {
   "cell_type": "code",
   "execution_count": 8,
   "metadata": {},
   "outputs": [],
   "source": [
    "df_busy_airports = df.groupby(['airport'])['airport'].count().reset_index(name = 'count').sort_values(['count'], ascending = False)"
   ]
  },
  {
   "cell_type": "markdown",
   "metadata": {},
   "source": [
    "Before moving on to plotting the graph, we should pause and talk about how we created this dataset to be plotted. The first step was grouping the observations by airport. This was done with the groupby() method. Next, we applied the count() method to each of these groups. Next, we reset the index. We needed to do this because the groupby() method makes the airport names as part of the dataframes index but we want to use the airport names as part of our graph so we need to use the method reset_index(). Finally, we sorted the values using the sort_values() method. The ascending parameter is labeled as False so that the values are sorted with the most first.  "
   ]
  },
  {
   "cell_type": "code",
   "execution_count": 48,
   "metadata": {},
   "outputs": [
    {
     "data": {
      "image/png": "[encoded data removed]",
      "text/plain": [
       "<Figure size 432x288 with 1 Axes>"
      ]
     },
     "metadata": {
      "needs_background": "light"
     },
     "output_type": "display_data"
    }
   ],
   "source": [
    "plt.bar(x = df_busy_airports['airport'], height = df_busy_airports['count'])\n",
    "plt.title('Busiest Airports')\n",
    "plt.xlabel('Airport')\n",
    "plt.ylabel('Count of Events')\n",
    "plt.xticks(rotation=45);"
   ]
  },
  {
   "cell_type": "markdown",
   "metadata": {},
   "source": [
    "Alright, so here is a graph of all the busiest airports. It is known as a bar chart. However, this graph is a bit unreadable. The airports are crowded. Honestly, we are only interested in maybe the top 5-10 airports. So let's only select those. "
   ]
  },
  {
   "cell_type": "code",
   "execution_count": 49,
   "metadata": {},
   "outputs": [
    {
     "data": {
      "image/png": "[encoded data removed]",
      "text/plain": [
       "<Figure size 432x288 with 1 Axes>"
      ]
     },
     "metadata": {
      "needs_background": "light"
     },
     "output_type": "display_data"
    }
   ],
   "source": [
    "plt.bar(x = df_busy_airports['airport'].head(10), height = df_busy_airports['count'].head(10))\n",
    "plt.title('Top 10 Busiest Airports')\n",
    "plt.xlabel('Airport')\n",
    "plt.ylabel('Count of Events')\n",
    "plt.xticks(rotation=45);"
   ]
  },
  {
   "cell_type": "markdown",
   "metadata": {},
   "source": [
    "This graph looks a lot better. We see from the graph that the Atlanta airport is clearly the busiest for these 4 airlines while Baltimore and Orlando round out the top 10 airports.\n",
    "\n",
    "Let's look at the least busiest airports. How would we do that?"
   ]
  },
  {
   "cell_type": "code",
   "execution_count": 51,
   "metadata": {},
   "outputs": [],
   "source": [
    "# Exercise\n",
    " \n",
    "df_least_busy_airports = None"
   ]
  },
  {
   "cell_type": "code",
   "execution_count": 9,
   "metadata": {},
   "outputs": [],
   "source": [
    "# Answer\n",
    "\n",
    "df_least_busy_airports = df.groupby(['airport'])['airport'].count().reset_index(name = 'count').sort_values(['count'], ascending = True)"
   ]
  },
  {
   "cell_type": "code",
   "execution_count": 53,
   "metadata": {},
   "outputs": [
    {
     "data": {
      "image/png": "[encoded data removed]",
      "text/plain": [
       "<Figure size 432x288 with 1 Axes>"
      ]
     },
     "metadata": {
      "needs_background": "light"
     },
     "output_type": "display_data"
    }
   ],
   "source": [
    "plt.bar(x = df_least_busy_airports['airport'].head(10), height = df_least_busy_airports['count'].head(10))\n",
    "plt.title('Top 10 Least Busiest Airports')\n",
    "plt.xlabel('Airport')\n",
    "plt.ylabel('Count of Events')\n",
    "plt.xticks(rotation=45);"
   ]
  },
  {
   "cell_type": "markdown",
   "metadata": {},
   "source": [
    "Great! Before we go on, I will explain the syntax for plotting bar charts. 'plt.' refers to the matplotlib library that we imported at the beginning of the notebook. Bar() is a method from the matplolib library. You'll notice that there are to parameters listed, x refering to the data that you want to represent the x-axis and height which represents the data that you want for the height of the bar chart. There are many more parameters but these two are required for plot a bar chart. Plt.Title(), plt.xlabel(), and plt.ylabel() are all additional methods from the matplotlib library to give the bar chrat, a title, x axis label, y axis label respectively.\n",
    "\n",
    "Now that we learned a bit about how to plot. Let's more on and take this one step further and break down the airports by airline. How would you do this?  Hint: You would need to change the columns that you group by and the columns that you sort by."
   ]
  },
  {
   "cell_type": "code",
   "execution_count": 59,
   "metadata": {},
   "outputs": [],
   "source": [
    "# Exercise\n",
    "\n",
    "df_busy_airports_by_airline = None"
   ]
  },
  {
   "cell_type": "code",
   "execution_count": 10,
   "metadata": {},
   "outputs": [],
   "source": [
    "# Solution\n",
    "\n",
    "df_busy_airports_by_airline = df.groupby(['airline','airport'])['airport'].count().reset_index(name = 'count').sort_values(['count','airline'], ascending = False)"
   ]
  },
  {
   "cell_type": "markdown",
   "metadata": {},
   "source": [
    "Instead of visualizing it, we are simply going to list out the top 10. This is another way to communicate the data, if the actual numbers are of interest. You will notice that is is much harder to gain a understanding of the relative proportions of the airports because there isn't a visual aspect to a table. "
   ]
  },
  {
   "cell_type": "code",
   "execution_count": 64,
   "metadata": {},
   "outputs": [
    {
     "data": {
      "text/html": [
       "<div>\n",
       "<style scoped>\n",
       "    .dataframe tbody tr th:only-of-type {\n",
       "        vertical-align: middle;\n",
       "    }\n",
       "\n",
       "    .dataframe tbody tr th {\n",
       "        vertical-align: top;\n",
       "    }\n",
       "\n",
       "    .dataframe thead th {\n",
       "        text-align: right;\n",
       "    }\n",
       "</style>\n",
       "<table border=\"1\" class=\"dataframe\">\n",
       "  <thead>\n",
       "    <tr style=\"text-align: right;\">\n",
       "      <th></th>\n",
       "      <th>airline</th>\n",
       "      <th>airport</th>\n",
       "      <th>count</th>\n",
       "    </tr>\n",
       "  </thead>\n",
       "  <tbody>\n",
       "    <tr>\n",
       "      <th>32</th>\n",
       "      <td>DAL</td>\n",
       "      <td>KATL</td>\n",
       "      <td>279421</td>\n",
       "    </tr>\n",
       "    <tr>\n",
       "      <th>7</th>\n",
       "      <td>AAL</td>\n",
       "      <td>KDFW</td>\n",
       "      <td>205306</td>\n",
       "    </tr>\n",
       "    <tr>\n",
       "      <th>4</th>\n",
       "      <td>AAL</td>\n",
       "      <td>KCLT</td>\n",
       "      <td>134129</td>\n",
       "    </tr>\n",
       "    <tr>\n",
       "      <th>72</th>\n",
       "      <td>SWA</td>\n",
       "      <td>KDEN</td>\n",
       "      <td>107219</td>\n",
       "    </tr>\n",
       "    <tr>\n",
       "      <th>83</th>\n",
       "      <td>SWA</td>\n",
       "      <td>KMDW</td>\n",
       "      <td>99018</td>\n",
       "    </tr>\n",
       "    <tr>\n",
       "      <th>69</th>\n",
       "      <td>SWA</td>\n",
       "      <td>KBWI</td>\n",
       "      <td>94865</td>\n",
       "    </tr>\n",
       "    <tr>\n",
       "      <th>79</th>\n",
       "      <td>SWA</td>\n",
       "      <td>KLAS</td>\n",
       "      <td>90225</td>\n",
       "    </tr>\n",
       "    <tr>\n",
       "      <th>19</th>\n",
       "      <td>AAL</td>\n",
       "      <td>KMIA</td>\n",
       "      <td>89261</td>\n",
       "    </tr>\n",
       "    <tr>\n",
       "      <th>89</th>\n",
       "      <td>SWA</td>\n",
       "      <td>KPHX</td>\n",
       "      <td>78189</td>\n",
       "    </tr>\n",
       "    <tr>\n",
       "      <th>120</th>\n",
       "      <td>UAL</td>\n",
       "      <td>KORD</td>\n",
       "      <td>74745</td>\n",
       "    </tr>\n",
       "  </tbody>\n",
       "</table>\n",
       "</div>"
      ],
      "text/plain": [
       "    airline airport   count\n",
       "32      DAL    KATL  279421\n",
       "7       AAL    KDFW  205306\n",
       "4       AAL    KCLT  134129\n",
       "72      SWA    KDEN  107219\n",
       "83      SWA    KMDW   99018\n",
       "69      SWA    KBWI   94865\n",
       "79      SWA    KLAS   90225\n",
       "19      AAL    KMIA   89261\n",
       "89      SWA    KPHX   78189\n",
       "120     UAL    KORD   74745"
      ]
     },
     "execution_count": 64,
     "metadata": {},
     "output_type": "execute_result"
    }
   ],
   "source": [
    "df_busy_airports_by_airline.head(10)"
   ]
  },
  {
   "cell_type": "markdown",
   "metadata": {},
   "source": [
    "Once you get more comfortable with graphing and basic data wrangling. You will eventually be able to create more complicated graphs. For example in the graph below, we are able to show the distribution of airprots for each airline and see how they differ in one graph. Moreover, it is interactive so you will be able to hover and see the exact numbers for each airline and airport as well as zoom in and out on portions of the graph."
   ]
  },
  {
   "cell_type": "code",
   "execution_count": 99,
   "metadata": {},
   "outputs": [
    {
     "data": {
      "application/vnd.plotly.v1+json": {
       "config": {
        "plotlyServerURL": "https://plot.ly"
       },
       "data": [
        {
         "alignmentgroup": "True",
         "hovertemplate": "airline=DAL<br>airport=%{x}<br>count=%{y}<extra></extra>",
         "legendgroup": "DAL",
         "marker": {
          "color": "#636efa"
         },
         "name": "DAL",
         "offsetgroup": "DAL",
         "orientation": "v",
         "showlegend": true,
         "textposition": "auto",
         "type": "bar",
         "x": [
          "KATL",
          "KMSP",
          "KDTW",
          "KSLC",
          "KJFK",
          "KLAX",
          "KSEA",
          "KLGA",
          "KBOS",
          "KMCO",
          "KLAS",
          "KORD",
          "KDEN",
          "KDFW",
          "KFLL",
          "KPHX",
          "KSAN",
          "KMIA",
          "KDCA",
          "KCLT",
          "KBWI",
          "KIAH",
          "KPHL",
          "KEWR",
          "KSTL",
          "KMKE",
          "KMEM",
          "KSNA",
          "KIAD",
          "KBDL",
          "KSDF",
          "KHOU",
          "KMDW",
          "KPVD"
         ],
         "xaxis": "x4",
         "y": [
          279421,
          70547,
          66626,
          57713,
          42440,
          40664,
          38154,
          24815,
          19027,
          17446,
          14123,
          13526,
          13376,
          12507,
          11711,
          11601,
          9970,
          9648,
          9282,
          7082,
          6242,
          5633,
          5580,
          5318,
          5022,
          4172,
          4079,
          3747,
          3618,
          3573,
          2909,
          2282,
          1317,
          107
         ],
         "yaxis": "y4"
        },
        {
         "alignmentgroup": "True",
         "hovertemplate": "airline=AAL<br>airport=%{x}<br>count=%{y}<extra></extra>",
         "legendgroup": "AAL",
         "marker": {
          "color": "#EF553B"
         },
         "name": "AAL",
         "offsetgroup": "AAL",
         "orientation": "v",
         "showlegend": true,
         "textposition": "auto",
         "type": "bar",
         "x": [
          "KDFW",
          "KCLT",
          "KMIA",
          "KPHX",
          "KORD",
          "KPHL",
          "KLAX",
          "KDCA",
          "KBOS",
          "KLGA",
          "KMCO",
          "KJFK",
          "KLAS",
          "KDEN",
          "KATL",
          "KSAN",
          "KFLL",
          "KSTL",
          "KIAH",
          "KSEA",
          "KEWR",
          "KMSP",
          "KSNA",
          "KDTW",
          "KBWI",
          "KSLC",
          "KBDL",
          "KMEM",
          "KMKE",
          "KIAD",
          "KPVD",
          "KSDF"
         ],
         "xaxis": "x3",
         "y": [
          205306,
          134129,
          89261,
          69151,
          66409,
          52850,
          46841,
          29239,
          25447,
          21398,
          20584,
          18051,
          16452,
          11625,
          11561,
          10272,
          9401,
          8797,
          7953,
          7670,
          7350,
          6758,
          6442,
          5871,
          5507,
          4646,
          4613,
          4125,
          2237,
          2072,
          1221,
          456
         ],
         "yaxis": "y3"
        },
        {
         "alignmentgroup": "True",
         "hovertemplate": "airline=SWA<br>airport=%{x}<br>count=%{y}<extra></extra>",
         "legendgroup": "SWA",
         "marker": {
          "color": "#00cc96"
         },
         "name": "SWA",
         "offsetgroup": "SWA",
         "orientation": "v",
         "showlegend": true,
         "textposition": "auto",
         "type": "bar",
         "x": [
          "KDEN",
          "KMDW",
          "KBWI",
          "KLAS",
          "KPHX",
          "KHOU",
          "KMCO",
          "KSTL",
          "KATL",
          "KSAN",
          "KLAX",
          "KFLL",
          "KDCA",
          "KSNA",
          "KMKE",
          "KLGA",
          "KSEA",
          "KSLC",
          "KBOS",
          "KPHL",
          "KMSP",
          "KBDL",
          "KDTW",
          "KSDF",
          "KMEM",
          "KPVD",
          "KCLT",
          "KIAD",
          "KMIA",
          "KIAH",
          "KEWR"
         ],
         "xaxis": "x2",
         "y": [
          107219,
          99018,
          94865,
          90225,
          78189,
          68449,
          55271,
          54405,
          51706,
          45072,
          44139,
          33549,
          20036,
          17747,
          15496,
          13402,
          13107,
          12339,
          9864,
          9266,
          8696,
          6788,
          6658,
          5943,
          4592,
          3855,
          3703,
          2630,
          84,
          4,
          2
         ],
         "yaxis": "y2"
        },
        {
         "alignmentgroup": "True",
         "hovertemplate": "airline=UAL<br>airport=%{x}<br>count=%{y}<extra></extra>",
         "legendgroup": "UAL",
         "marker": {
          "color": "#ab63fa"
         },
         "name": "UAL",
         "offsetgroup": "UAL",
         "orientation": "v",
         "showlegend": true,
         "textposition": "auto",
         "type": "bar",
         "x": [
          "KORD",
          "KIAH",
          "KDEN",
          "KEWR",
          "KIAD",
          "KLAX",
          "KMCO",
          "KLAS",
          "KBOS",
          "KSAN",
          "KFLL",
          "KPHX",
          "KSEA",
          "KMIA",
          "KSNA",
          "KLGA",
          "KDFW",
          "KATL",
          "KDCA",
          "KPHL",
          "KBWI",
          "KMSP",
          "KSLC",
          "KBDL",
          "KDTW",
          "KCLT",
          "KMKE",
          "KSTL",
          "KHOU",
          "KMEM",
          "KMDW",
          "KPVD",
          "KSDF"
         ],
         "xaxis": "x",
         "y": [
          74745,
          73872,
          73590,
          65974,
          31176,
          26175,
          12572,
          11786,
          10452,
          8968,
          8505,
          8053,
          7520,
          6439,
          5641,
          5256,
          5121,
          3789,
          2950,
          2885,
          2860,
          2761,
          2200,
          972,
          882,
          479,
          186,
          157,
          43,
          31,
          27,
          8,
          7
         ],
         "yaxis": "y"
        }
       ],
       "layout": {
        "annotations": [
         {
          "showarrow": false,
          "text": "UAL",
          "textangle": 90,
          "x": 0.98,
          "xanchor": "left",
          "xref": "paper",
          "y": 0.11375,
          "yanchor": "middle",
          "yref": "paper"
         },
         {
          "showarrow": false,
          "text": "SWA",
          "textangle": 90,
          "x": 0.98,
          "xanchor": "left",
          "xref": "paper",
          "y": 0.37124999999999997,
          "yanchor": "middle",
          "yref": "paper"
         },
         {
          "showarrow": false,
          "text": "AAL",
          "textangle": 90,
          "x": 0.98,
          "xanchor": "left",
          "xref": "paper",
          "y": 0.62875,
          "yanchor": "middle",
          "yref": "paper"
         },
         {
          "showarrow": false,
          "text": "DAL",
          "textangle": 90,
          "x": 0.98,
          "xanchor": "left",
          "xref": "paper",
          "y": 0.88625,
          "yanchor": "middle",
          "yref": "paper"
         },
         {
          "font": {
           "size": 14
          },
          "showarrow": false,
          "text": "Count of Flights",
          "textangle": -90,
          "x": -0.1,
          "xref": "paper",
          "y": 0.5,
          "yref": "paper"
         }
        ],
        "barmode": "relative",
        "legend": {
         "title": {
          "text": "airline"
         },
         "tracegroupgap": 0
        },
        "template": {
         "data": {
          "bar": [
           {
            "error_x": {
             "color": "#2a3f5f"
            },
            "error_y": {
             "color": "#2a3f5f"
            },
            "marker": {
             "line": {
              "color": "#E5ECF6",
              "width": 0.5
             }
            },
            "type": "bar"
           }
          ],
          "barpolar": [
           {
            "marker": {
             "line": {
              "color": "#E5ECF6",
              "width": 0.5
             }
            },
            "type": "barpolar"
           }
          ],
          "carpet": [
           {
            "aaxis": {
             "endlinecolor": "#2a3f5f",
             "gridcolor": "white",
             "linecolor": "white",
             "minorgridcolor": "white",
             "startlinecolor": "#2a3f5f"
            },
            "baxis": {
             "endlinecolor": "#2a3f5f",
             "gridcolor": "white",
             "linecolor": "white",
             "minorgridcolor": "white",
             "startlinecolor": "#2a3f5f"
            },
            "type": "carpet"
           }
          ],
          "choropleth": [
           {
            "colorbar": {
             "outlinewidth": 0,
             "ticks": ""
            },
            "type": "choropleth"
           }
          ],
          "contour": [
           {
            "colorbar": {
             "outlinewidth": 0,
             "ticks": ""
            },
            "colorscale": [
             [
              0,
              "#0d0887"
             ],
             [
              0.1111111111111111,
              "#46039f"
             ],
             [
              0.2222222222222222,
              "#7201a8"
             ],
             [
              0.3333333333333333,
              "#9c179e"
             ],
             [
              0.4444444444444444,
              "#bd3786"
             ],
             [
              0.5555555555555556,
              "#d8576b"
             ],
             [
              0.6666666666666666,
              "#ed7953"
             ],
             [
              0.7777777777777778,
              "#fb9f3a"
             ],
             [
              0.8888888888888888,
              "#fdca26"
             ],
             [
              1,
              "#f0f921"
             ]
            ],
            "type": "contour"
           }
          ],
          "contourcarpet": [
           {
            "colorbar": {
             "outlinewidth": 0,
             "ticks": ""
            },
            "type": "contourcarpet"
           }
          ],
          "heatmap": [
           {
            "colorbar": {
             "outlinewidth": 0,
             "ticks": ""
            },
            "colorscale": [
             [
              0,
              "#0d0887"
             ],
             [
              0.1111111111111111,
              "#46039f"
             ],
             [
              0.2222222222222222,
              "#7201a8"
             ],
             [
              0.3333333333333333,
              "#9c179e"
             ],
             [
              0.4444444444444444,
              "#bd3786"
             ],
             [
              0.5555555555555556,
              "#d8576b"
             ],
             [
              0.6666666666666666,
              "#ed7953"
             ],
             [
              0.7777777777777778,
              "#fb9f3a"
             ],
             [
              0.8888888888888888,
              "#fdca26"
             ],
             [
              1,
              "#f0f921"
             ]
            ],
            "type": "heatmap"
           }
          ],
          "heatmapgl": [
           {
            "colorbar": {
             "outlinewidth": 0,
             "ticks": ""
            },
            "colorscale": [
             [
              0,
              "#0d0887"
             ],
             [
              0.1111111111111111,
              "#46039f"
             ],
             [
              0.2222222222222222,
              "#7201a8"
             ],
             [
              0.3333333333333333,
              "#9c179e"
             ],
             [
              0.4444444444444444,
              "#bd3786"
             ],
             [
              0.5555555555555556,
              "#d8576b"
             ],
             [
              0.6666666666666666,
              "#ed7953"
             ],
             [
              0.7777777777777778,
              "#fb9f3a"
             ],
             [
              0.8888888888888888,
              "#fdca26"
             ],
             [
              1,
              "#f0f921"
             ]
            ],
            "type": "heatmapgl"
           }
          ],
          "histogram": [
           {
            "marker": {
             "colorbar": {
              "outlinewidth": 0,
              "ticks": ""
             }
            },
            "type": "histogram"
           }
          ],
          "histogram2d": [
           {
            "colorbar": {
             "outlinewidth": 0,
             "ticks": ""
            },
            "colorscale": [
             [
              0,
              "#0d0887"
             ],
             [
              0.1111111111111111,
              "#46039f"
             ],
             [
              0.2222222222222222,
              "#7201a8"
             ],
             [
              0.3333333333333333,
              "#9c179e"
             ],
             [
              0.4444444444444444,
              "#bd3786"
             ],
             [
              0.5555555555555556,
              "#d8576b"
             ],
             [
              0.6666666666666666,
              "#ed7953"
             ],
             [
              0.7777777777777778,
              "#fb9f3a"
             ],
             [
              0.8888888888888888,
              "#fdca26"
             ],
             [
              1,
              "#f0f921"
             ]
            ],
            "type": "histogram2d"
           }
          ],
          "histogram2dcontour": [
           {
            "colorbar": {
             "outlinewidth": 0,
             "ticks": ""
            },
            "colorscale": [
             [
              0,
              "#0d0887"
             ],
             [
              0.1111111111111111,
              "#46039f"
             ],
             [
              0.2222222222222222,
              "#7201a8"
             ],
             [
              0.3333333333333333,
              "#9c179e"
             ],
             [
              0.4444444444444444,
              "#bd3786"
             ],
             [
              0.5555555555555556,
              "#d8576b"
             ],
             [
              0.6666666666666666,
              "#ed7953"
             ],
             [
              0.7777777777777778,
              "#fb9f3a"
             ],
             [
              0.8888888888888888,
              "#fdca26"
             ],
             [
              1,
              "#f0f921"
             ]
            ],
            "type": "histogram2dcontour"
           }
          ],
          "mesh3d": [
           {
            "colorbar": {
             "outlinewidth": 0,
             "ticks": ""
            },
            "type": "mesh3d"
           }
          ],
          "parcoords": [
           {
            "line": {
             "colorbar": {
              "outlinewidth": 0,
              "ticks": ""
             }
            },
            "type": "parcoords"
           }
          ],
          "pie": [
           {
            "automargin": true,
            "type": "pie"
           }
          ],
          "scatter": [
           {
            "marker": {
             "colorbar": {
              "outlinewidth": 0,
              "ticks": ""
             }
            },
            "type": "scatter"
           }
          ],
          "scatter3d": [
           {
            "line": {
             "colorbar": {
              "outlinewidth": 0,
              "ticks": ""
             }
            },
            "marker": {
             "colorbar": {
              "outlinewidth": 0,
              "ticks": ""
             }
            },
            "type": "scatter3d"
           }
          ],
          "scattercarpet": [
           {
            "marker": {
             "colorbar": {
              "outlinewidth": 0,
              "ticks": ""
             }
            },
            "type": "scattercarpet"
           }
          ],
          "scattergeo": [
           {
            "marker": {
             "colorbar": {
              "outlinewidth": 0,
              "ticks": ""
             }
            },
            "type": "scattergeo"
           }
          ],
          "scattergl": [
           {
            "marker": {
             "colorbar": {
              "outlinewidth": 0,
              "ticks": ""
             }
            },
            "type": "scattergl"
           }
          ],
          "scattermapbox": [
           {
            "marker": {
             "colorbar": {
              "outlinewidth": 0,
              "ticks": ""
             }
            },
            "type": "scattermapbox"
           }
          ],
          "scatterpolar": [
           {
            "marker": {
             "colorbar": {
              "outlinewidth": 0,
              "ticks": ""
             }
            },
            "type": "scatterpolar"
           }
          ],
          "scatterpolargl": [
           {
            "marker": {
             "colorbar": {
              "outlinewidth": 0,
              "ticks": ""
             }
            },
            "type": "scatterpolargl"
           }
          ],
          "scatterternary": [
           {
            "marker": {
             "colorbar": {
              "outlinewidth": 0,
              "ticks": ""
             }
            },
            "type": "scatterternary"
           }
          ],
          "surface": [
           {
            "colorbar": {
             "outlinewidth": 0,
             "ticks": ""
            },
            "colorscale": [
             [
              0,
              "#0d0887"
             ],
             [
              0.1111111111111111,
              "#46039f"
             ],
             [
              0.2222222222222222,
              "#7201a8"
             ],
             [
              0.3333333333333333,
              "#9c179e"
             ],
             [
              0.4444444444444444,
              "#bd3786"
             ],
             [
              0.5555555555555556,
              "#d8576b"
             ],
             [
              0.6666666666666666,
              "#ed7953"
             ],
             [
              0.7777777777777778,
              "#fb9f3a"
             ],
             [
              0.8888888888888888,
              "#fdca26"
             ],
             [
              1,
              "#f0f921"
             ]
            ],
            "type": "surface"
           }
          ],
          "table": [
           {
            "cells": {
             "fill": {
              "color": "#EBF0F8"
             },
             "line": {
              "color": "white"
             }
            },
            "header": {
             "fill": {
              "color": "#C8D4E3"
             },
             "line": {
              "color": "white"
             }
            },
            "type": "table"
           }
          ]
         },
         "layout": {
          "annotationdefaults": {
           "arrowcolor": "#2a3f5f",
           "arrowhead": 0,
           "arrowwidth": 1
          },
          "coloraxis": {
           "colorbar": {
            "outlinewidth": 0,
            "ticks": ""
           }
          },
          "colorscale": {
           "diverging": [
            [
             0,
             "#8e0152"
            ],
            [
             0.1,
             "#c51b7d"
            ],
            [
             0.2,
             "#de77ae"
            ],
            [
             0.3,
             "#f1b6da"
            ],
            [
             0.4,
             "#fde0ef"
            ],
            [
             0.5,
             "#f7f7f7"
            ],
            [
             0.6,
             "#e6f5d0"
            ],
            [
             0.7,
             "#b8e186"
            ],
            [
             0.8,
             "#7fbc41"
            ],
            [
             0.9,
             "#4d9221"
            ],
            [
             1,
             "#276419"
            ]
           ],
           "sequential": [
            [
             0,
             "#0d0887"
            ],
            [
             0.1111111111111111,
             "#46039f"
            ],
            [
             0.2222222222222222,
             "#7201a8"
            ],
            [
             0.3333333333333333,
             "#9c179e"
            ],
            [
             0.4444444444444444,
             "#bd3786"
            ],
            [
             0.5555555555555556,
             "#d8576b"
            ],
            [
             0.6666666666666666,
             "#ed7953"
            ],
            [
             0.7777777777777778,
             "#fb9f3a"
            ],
            [
             0.8888888888888888,
             "#fdca26"
            ],
            [
             1,
             "#f0f921"
            ]
           ],
           "sequentialminus": [
            [
             0,
             "#0d0887"
            ],
            [
             0.1111111111111111,
             "#46039f"
            ],
            [
             0.2222222222222222,
             "#7201a8"
            ],
            [
             0.3333333333333333,
             "#9c179e"
            ],
            [
             0.4444444444444444,
             "#bd3786"
            ],
            [
             0.5555555555555556,
             "#d8576b"
            ],
            [
             0.6666666666666666,
             "#ed7953"
            ],
            [
             0.7777777777777778,
             "#fb9f3a"
            ],
            [
             0.8888888888888888,
             "#fdca26"
            ],
            [
             1,
             "#f0f921"
            ]
           ]
          },
          "colorway": [
           "#636efa",
           "#EF553B",
           "#00cc96",
           "#ab63fa",
           "#FFA15A",
           "#19d3f3",
           "#FF6692",
           "#B6E880",
           "#FF97FF",
           "#FECB52"
          ],
          "font": {
           "color": "#2a3f5f"
          },
          "geo": {
           "bgcolor": "white",
           "lakecolor": "white",
           "landcolor": "#E5ECF6",
           "showlakes": true,
           "showland": true,
           "subunitcolor": "white"
          },
          "hoverlabel": {
           "align": "left"
          },
          "hovermode": "closest",
          "mapbox": {
           "style": "light"
          },
          "paper_bgcolor": "white",
          "plot_bgcolor": "#E5ECF6",
          "polar": {
           "angularaxis": {
            "gridcolor": "white",
            "linecolor": "white",
            "ticks": ""
           },
           "bgcolor": "#E5ECF6",
           "radialaxis": {
            "gridcolor": "white",
            "linecolor": "white",
            "ticks": ""
           }
          },
          "scene": {
           "xaxis": {
            "backgroundcolor": "#E5ECF6",
            "gridcolor": "white",
            "gridwidth": 2,
            "linecolor": "white",
            "showbackground": true,
            "ticks": "",
            "zerolinecolor": "white"
           },
           "yaxis": {
            "backgroundcolor": "#E5ECF6",
            "gridcolor": "white",
            "gridwidth": 2,
            "linecolor": "white",
            "showbackground": true,
            "ticks": "",
            "zerolinecolor": "white"
           },
           "zaxis": {
            "backgroundcolor": "#E5ECF6",
            "gridcolor": "white",
            "gridwidth": 2,
            "linecolor": "white",
            "showbackground": true,
            "ticks": "",
            "zerolinecolor": "white"
           }
          },
          "shapedefaults": {
           "line": {
            "color": "#2a3f5f"
           }
          },
          "ternary": {
           "aaxis": {
            "gridcolor": "white",
            "linecolor": "white",
            "ticks": ""
           },
           "baxis": {
            "gridcolor": "white",
            "linecolor": "white",
            "ticks": ""
           },
           "bgcolor": "#E5ECF6",
           "caxis": {
            "gridcolor": "white",
            "linecolor": "white",
            "ticks": ""
           }
          },
          "title": {
           "x": 0.05
          },
          "xaxis": {
           "automargin": true,
           "gridcolor": "white",
           "linecolor": "white",
           "ticks": "",
           "title": {
            "standoff": 15
           },
           "zerolinecolor": "white",
           "zerolinewidth": 2
          },
          "yaxis": {
           "automargin": true,
           "gridcolor": "white",
           "linecolor": "white",
           "ticks": "",
           "title": {
            "standoff": 15
           },
           "zerolinecolor": "white",
           "zerolinewidth": 2
          }
         }
        },
        "title": {
         "text": "Faceted Bar Chart - Busiest Airport by Airline"
        },
        "xaxis": {
         "anchor": "y",
         "domain": [
          0,
          0.98
         ],
         "title": {
          "text": "airport"
         }
        },
        "xaxis2": {
         "anchor": "y2",
         "domain": [
          0,
          0.98
         ],
         "matches": "x",
         "showticklabels": false
        },
        "xaxis3": {
         "anchor": "y3",
         "domain": [
          0,
          0.98
         ],
         "matches": "x",
         "showticklabels": false
        },
        "xaxis4": {
         "anchor": "y4",
         "domain": [
          0,
          0.98
         ],
         "matches": "x",
         "showticklabels": false
        },
        "yaxis": {
         "anchor": "x",
         "domain": [
          0,
          0.2275
         ],
         "title": {
          "text": ""
         }
        },
        "yaxis2": {
         "anchor": "x2",
         "domain": [
          0.2575,
          0.485
         ],
         "matches": "y",
         "title": {
          "text": ""
         }
        },
        "yaxis3": {
         "anchor": "x3",
         "domain": [
          0.515,
          0.7425
         ],
         "matches": "y",
         "title": {
          "text": ""
         }
        },
        "yaxis4": {
         "anchor": "x4",
         "domain": [
          0.7725,
          1
         ],
         "matches": "y",
         "title": {
          "text": ""
         }
        }
       }
      },
      "text/html": [
       "<div>\n",
       "        \n",
       "        \n",
       "            <div id=\"ebe5caf5-7cde-4cb0-9c4b-8e8159b1ac82\" class=\"plotly-graph-div\" style=\"height:525px; width:100%;\"></div>\n",
       "            <script type=\"text/javascript\">\n",
       "                require([\"plotly\"], function(Plotly) {\n",
       "                    window.PLOTLYENV=window.PLOTLYENV || {};\n",
       "                    \n",
       "                if (document.getElementById(\"ebe5caf5-7cde-4cb0-9c4b-8e8159b1ac82\")) {\n",
       "                    Plotly.newPlot(\n",
       "                        'ebe5caf5-7cde-4cb0-9c4b-8e8159b1ac82',\n",
       "                        [{\"alignmentgroup\": \"True\", \"hovertemplate\": \"airline=DAL<br>airport=%{x}<br>count=%{y}<extra></extra>\", \"legendgroup\": \"DAL\", \"marker\": {\"color\": \"#636efa\"}, \"name\": \"DAL\", \"offsetgroup\": \"DAL\", \"orientation\": \"v\", \"showlegend\": true, \"textposition\": \"auto\", \"type\": \"bar\", \"x\": [\"KATL\", \"KMSP\", \"KDTW\", \"KSLC\", \"KJFK\", \"KLAX\", \"KSEA\", \"KLGA\", \"KBOS\", \"KMCO\", \"KLAS\", \"KORD\", \"KDEN\", \"KDFW\", \"KFLL\", \"KPHX\", \"KSAN\", \"KMIA\", \"KDCA\", \"KCLT\", \"KBWI\", \"KIAH\", \"KPHL\", \"KEWR\", \"KSTL\", \"KMKE\", \"KMEM\", \"KSNA\", \"KIAD\", \"KBDL\", \"KSDF\", \"KHOU\", \"KMDW\", \"KPVD\"], \"xaxis\": \"x4\", \"y\": [279421, 70547, 66626, 57713, 42440, 40664, 38154, 24815, 19027, 17446, 14123, 13526, 13376, 12507, 11711, 11601, 9970, 9648, 9282, 7082, 6242, 5633, 5580, 5318, 5022, 4172, 4079, 3747, 3618, 3573, 2909, 2282, 1317, 107], \"yaxis\": \"y4\"}, {\"alignmentgroup\": \"True\", \"hovertemplate\": \"airline=AAL<br>airport=%{x}<br>count=%{y}<extra></extra>\", \"legendgroup\": \"AAL\", \"marker\": {\"color\": \"#EF553B\"}, \"name\": \"AAL\", \"offsetgroup\": \"AAL\", \"orientation\": \"v\", \"showlegend\": true, \"textposition\": \"auto\", \"type\": \"bar\", \"x\": [\"KDFW\", \"KCLT\", \"KMIA\", \"KPHX\", \"KORD\", \"KPHL\", \"KLAX\", \"KDCA\", \"KBOS\", \"KLGA\", \"KMCO\", \"KJFK\", \"KLAS\", \"KDEN\", \"KATL\", \"KSAN\", \"KFLL\", \"KSTL\", \"KIAH\", \"KSEA\", \"KEWR\", \"KMSP\", \"KSNA\", \"KDTW\", \"KBWI\", \"KSLC\", \"KBDL\", \"KMEM\", \"KMKE\", \"KIAD\", \"KPVD\", \"KSDF\"], \"xaxis\": \"x3\", \"y\": [205306, 134129, 89261, 69151, 66409, 52850, 46841, 29239, 25447, 21398, 20584, 18051, 16452, 11625, 11561, 10272, 9401, 8797, 7953, 7670, 7350, 6758, 6442, 5871, 5507, 4646, 4613, 4125, 2237, 2072, 1221, 456], \"yaxis\": \"y3\"}, {\"alignmentgroup\": \"True\", \"hovertemplate\": \"airline=SWA<br>airport=%{x}<br>count=%{y}<extra></extra>\", \"legendgroup\": \"SWA\", \"marker\": {\"color\": \"#00cc96\"}, \"name\": \"SWA\", \"offsetgroup\": \"SWA\", \"orientation\": \"v\", \"showlegend\": true, \"textposition\": \"auto\", \"type\": \"bar\", \"x\": [\"KDEN\", \"KMDW\", \"KBWI\", \"KLAS\", \"KPHX\", \"KHOU\", \"KMCO\", \"KSTL\", \"KATL\", \"KSAN\", \"KLAX\", \"KFLL\", \"KDCA\", \"KSNA\", \"KMKE\", \"KLGA\", \"KSEA\", \"KSLC\", \"KBOS\", \"KPHL\", \"KMSP\", \"KBDL\", \"KDTW\", \"KSDF\", \"KMEM\", \"KPVD\", \"KCLT\", \"KIAD\", \"KMIA\", \"KIAH\", \"KEWR\"], \"xaxis\": \"x2\", \"y\": [107219, 99018, 94865, 90225, 78189, 68449, 55271, 54405, 51706, 45072, 44139, 33549, 20036, 17747, 15496, 13402, 13107, 12339, 9864, 9266, 8696, 6788, 6658, 5943, 4592, 3855, 3703, 2630, 84, 4, 2], \"yaxis\": \"y2\"}, {\"alignmentgroup\": \"True\", \"hovertemplate\": \"airline=UAL<br>airport=%{x}<br>count=%{y}<extra></extra>\", \"legendgroup\": \"UAL\", \"marker\": {\"color\": \"#ab63fa\"}, \"name\": \"UAL\", \"offsetgroup\": \"UAL\", \"orientation\": \"v\", \"showlegend\": true, \"textposition\": \"auto\", \"type\": \"bar\", \"x\": [\"KORD\", \"KIAH\", \"KDEN\", \"KEWR\", \"KIAD\", \"KLAX\", \"KMCO\", \"KLAS\", \"KBOS\", \"KSAN\", \"KFLL\", \"KPHX\", \"KSEA\", \"KMIA\", \"KSNA\", \"KLGA\", \"KDFW\", \"KATL\", \"KDCA\", \"KPHL\", \"KBWI\", \"KMSP\", \"KSLC\", \"KBDL\", \"KDTW\", \"KCLT\", \"KMKE\", \"KSTL\", \"KHOU\", \"KMEM\", \"KMDW\", \"KPVD\", \"KSDF\"], \"xaxis\": \"x\", \"y\": [74745, 73872, 73590, 65974, 31176, 26175, 12572, 11786, 10452, 8968, 8505, 8053, 7520, 6439, 5641, 5256, 5121, 3789, 2950, 2885, 2860, 2761, 2200, 972, 882, 479, 186, 157, 43, 31, 27, 8, 7], \"yaxis\": \"y\"}],\n",
       "                        {\"annotations\": [{\"showarrow\": false, \"text\": \"UAL\", \"textangle\": 90, \"x\": 0.98, \"xanchor\": \"left\", \"xref\": \"paper\", \"y\": 0.11375, \"yanchor\": \"middle\", \"yref\": \"paper\"}, {\"showarrow\": false, \"text\": \"SWA\", \"textangle\": 90, \"x\": 0.98, \"xanchor\": \"left\", \"xref\": \"paper\", \"y\": 0.37124999999999997, \"yanchor\": \"middle\", \"yref\": \"paper\"}, {\"showarrow\": false, \"text\": \"AAL\", \"textangle\": 90, \"x\": 0.98, \"xanchor\": \"left\", \"xref\": \"paper\", \"y\": 0.62875, \"yanchor\": \"middle\", \"yref\": \"paper\"}, {\"showarrow\": false, \"text\": \"DAL\", \"textangle\": 90, \"x\": 0.98, \"xanchor\": \"left\", \"xref\": \"paper\", \"y\": 0.88625, \"yanchor\": \"middle\", \"yref\": \"paper\"}, {\"font\": {\"size\": 14}, \"showarrow\": false, \"text\": \"Count of Flights\", \"textangle\": -90, \"x\": -0.1, \"xref\": \"paper\", \"y\": 0.5, \"yref\": \"paper\"}], \"barmode\": \"relative\", \"legend\": {\"title\": {\"text\": \"airline\"}, \"tracegroupgap\": 0}, \"template\": {\"data\": {\"bar\": [{\"error_x\": {\"color\": \"#2a3f5f\"}, \"error_y\": {\"color\": \"#2a3f5f\"}, \"marker\": {\"line\": {\"color\": \"#E5ECF6\", \"width\": 0.5}}, \"type\": \"bar\"}], \"barpolar\": [{\"marker\": {\"line\": {\"color\": \"#E5ECF6\", \"width\": 0.5}}, \"type\": \"barpolar\"}], \"carpet\": [{\"aaxis\": {\"endlinecolor\": \"#2a3f5f\", \"gridcolor\": \"white\", \"linecolor\": \"white\", \"minorgridcolor\": \"white\", \"startlinecolor\": \"#2a3f5f\"}, \"baxis\": {\"endlinecolor\": \"#2a3f5f\", \"gridcolor\": \"white\", \"linecolor\": \"white\", \"minorgridcolor\": \"white\", \"startlinecolor\": \"#2a3f5f\"}, \"type\": \"carpet\"}], \"choropleth\": [{\"colorbar\": {\"outlinewidth\": 0, \"ticks\": \"\"}, \"type\": \"choropleth\"}], \"contour\": [{\"colorbar\": {\"outlinewidth\": 0, \"ticks\": \"\"}, \"colorscale\": [[0.0, \"#0d0887\"], [0.1111111111111111, \"#46039f\"], [0.2222222222222222, \"#7201a8\"], [0.3333333333333333, \"#9c179e\"], [0.4444444444444444, \"#bd3786\"], [0.5555555555555556, \"#d8576b\"], [0.6666666666666666, \"#ed7953\"], [0.7777777777777778, \"#fb9f3a\"], [0.8888888888888888, \"#fdca26\"], [1.0, \"#f0f921\"]], \"type\": \"contour\"}], \"contourcarpet\": [{\"colorbar\": {\"outlinewidth\": 0, \"ticks\": \"\"}, \"type\": \"contourcarpet\"}], \"heatmap\": [{\"colorbar\": {\"outlinewidth\": 0, \"ticks\": \"\"}, \"colorscale\": [[0.0, \"#0d0887\"], [0.1111111111111111, \"#46039f\"], [0.2222222222222222, \"#7201a8\"], [0.3333333333333333, \"#9c179e\"], [0.4444444444444444, \"#bd3786\"], [0.5555555555555556, \"#d8576b\"], [0.6666666666666666, \"#ed7953\"], [0.7777777777777778, \"#fb9f3a\"], [0.8888888888888888, \"#fdca26\"], [1.0, \"#f0f921\"]], \"type\": \"heatmap\"}], \"heatmapgl\": [{\"colorbar\": {\"outlinewidth\": 0, \"ticks\": \"\"}, \"colorscale\": [[0.0, \"#0d0887\"], [0.1111111111111111, \"#46039f\"], [0.2222222222222222, \"#7201a8\"], [0.3333333333333333, \"#9c179e\"], [0.4444444444444444, \"#bd3786\"], [0.5555555555555556, \"#d8576b\"], [0.6666666666666666, \"#ed7953\"], [0.7777777777777778, \"#fb9f3a\"], [0.8888888888888888, \"#fdca26\"], [1.0, \"#f0f921\"]], \"type\": \"heatmapgl\"}], \"histogram\": [{\"marker\": {\"colorbar\": {\"outlinewidth\": 0, \"ticks\": \"\"}}, \"type\": \"histogram\"}], \"histogram2d\": [{\"colorbar\": {\"outlinewidth\": 0, \"ticks\": \"\"}, \"colorscale\": [[0.0, \"#0d0887\"], [0.1111111111111111, \"#46039f\"], [0.2222222222222222, \"#7201a8\"], [0.3333333333333333, \"#9c179e\"], [0.4444444444444444, \"#bd3786\"], [0.5555555555555556, \"#d8576b\"], [0.6666666666666666, \"#ed7953\"], [0.7777777777777778, \"#fb9f3a\"], [0.8888888888888888, \"#fdca26\"], [1.0, \"#f0f921\"]], \"type\": \"histogram2d\"}], \"histogram2dcontour\": [{\"colorbar\": {\"outlinewidth\": 0, \"ticks\": \"\"}, \"colorscale\": [[0.0, \"#0d0887\"], [0.1111111111111111, \"#46039f\"], [0.2222222222222222, \"#7201a8\"], [0.3333333333333333, \"#9c179e\"], [0.4444444444444444, \"#bd3786\"], [0.5555555555555556, \"#d8576b\"], [0.6666666666666666, \"#ed7953\"], [0.7777777777777778, \"#fb9f3a\"], [0.8888888888888888, \"#fdca26\"], [1.0, \"#f0f921\"]], \"type\": \"histogram2dcontour\"}], \"mesh3d\": [{\"colorbar\": {\"outlinewidth\": 0, \"ticks\": \"\"}, \"type\": \"mesh3d\"}], \"parcoords\": [{\"line\": {\"colorbar\": {\"outlinewidth\": 0, \"ticks\": \"\"}}, \"type\": \"parcoords\"}], \"pie\": [{\"automargin\": true, \"type\": \"pie\"}], \"scatter\": [{\"marker\": {\"colorbar\": {\"outlinewidth\": 0, \"ticks\": \"\"}}, \"type\": \"scatter\"}], \"scatter3d\": [{\"line\": {\"colorbar\": {\"outlinewidth\": 0, \"ticks\": \"\"}}, \"marker\": {\"colorbar\": {\"outlinewidth\": 0, \"ticks\": \"\"}}, \"type\": \"scatter3d\"}], \"scattercarpet\": [{\"marker\": {\"colorbar\": {\"outlinewidth\": 0, \"ticks\": \"\"}}, \"type\": \"scattercarpet\"}], \"scattergeo\": [{\"marker\": {\"colorbar\": {\"outlinewidth\": 0, \"ticks\": \"\"}}, \"type\": \"scattergeo\"}], \"scattergl\": [{\"marker\": {\"colorbar\": {\"outlinewidth\": 0, \"ticks\": \"\"}}, \"type\": \"scattergl\"}], \"scattermapbox\": [{\"marker\": {\"colorbar\": {\"outlinewidth\": 0, \"ticks\": \"\"}}, \"type\": \"scattermapbox\"}], \"scatterpolar\": [{\"marker\": {\"colorbar\": {\"outlinewidth\": 0, \"ticks\": \"\"}}, \"type\": \"scatterpolar\"}], \"scatterpolargl\": [{\"marker\": {\"colorbar\": {\"outlinewidth\": 0, \"ticks\": \"\"}}, \"type\": \"scatterpolargl\"}], \"scatterternary\": [{\"marker\": {\"colorbar\": {\"outlinewidth\": 0, \"ticks\": \"\"}}, \"type\": \"scatterternary\"}], \"surface\": [{\"colorbar\": {\"outlinewidth\": 0, \"ticks\": \"\"}, \"colorscale\": [[0.0, \"#0d0887\"], [0.1111111111111111, \"#46039f\"], [0.2222222222222222, \"#7201a8\"], [0.3333333333333333, \"#9c179e\"], [0.4444444444444444, \"#bd3786\"], [0.5555555555555556, \"#d8576b\"], [0.6666666666666666, \"#ed7953\"], [0.7777777777777778, \"#fb9f3a\"], [0.8888888888888888, \"#fdca26\"], [1.0, \"#f0f921\"]], \"type\": \"surface\"}], \"table\": [{\"cells\": {\"fill\": {\"color\": \"#EBF0F8\"}, \"line\": {\"color\": \"white\"}}, \"header\": {\"fill\": {\"color\": \"#C8D4E3\"}, \"line\": {\"color\": \"white\"}}, \"type\": \"table\"}]}, \"layout\": {\"annotationdefaults\": {\"arrowcolor\": \"#2a3f5f\", \"arrowhead\": 0, \"arrowwidth\": 1}, \"coloraxis\": {\"colorbar\": {\"outlinewidth\": 0, \"ticks\": \"\"}}, \"colorscale\": {\"diverging\": [[0, \"#8e0152\"], [0.1, \"#c51b7d\"], [0.2, \"#de77ae\"], [0.3, \"#f1b6da\"], [0.4, \"#fde0ef\"], [0.5, \"#f7f7f7\"], [0.6, \"#e6f5d0\"], [0.7, \"#b8e186\"], [0.8, \"#7fbc41\"], [0.9, \"#4d9221\"], [1, \"#276419\"]], \"sequential\": [[0.0, \"#0d0887\"], [0.1111111111111111, \"#46039f\"], [0.2222222222222222, \"#7201a8\"], [0.3333333333333333, \"#9c179e\"], [0.4444444444444444, \"#bd3786\"], [0.5555555555555556, \"#d8576b\"], [0.6666666666666666, \"#ed7953\"], [0.7777777777777778, \"#fb9f3a\"], [0.8888888888888888, \"#fdca26\"], [1.0, \"#f0f921\"]], \"sequentialminus\": [[0.0, \"#0d0887\"], [0.1111111111111111, \"#46039f\"], [0.2222222222222222, \"#7201a8\"], [0.3333333333333333, \"#9c179e\"], [0.4444444444444444, \"#bd3786\"], [0.5555555555555556, \"#d8576b\"], [0.6666666666666666, \"#ed7953\"], [0.7777777777777778, \"#fb9f3a\"], [0.8888888888888888, \"#fdca26\"], [1.0, \"#f0f921\"]]}, \"colorway\": [\"#636efa\", \"#EF553B\", \"#00cc96\", \"#ab63fa\", \"#FFA15A\", \"#19d3f3\", \"#FF6692\", \"#B6E880\", \"#FF97FF\", \"#FECB52\"], \"font\": {\"color\": \"#2a3f5f\"}, \"geo\": {\"bgcolor\": \"white\", \"lakecolor\": \"white\", \"landcolor\": \"#E5ECF6\", \"showlakes\": true, \"showland\": true, \"subunitcolor\": \"white\"}, \"hoverlabel\": {\"align\": \"left\"}, \"hovermode\": \"closest\", \"mapbox\": {\"style\": \"light\"}, \"paper_bgcolor\": \"white\", \"plot_bgcolor\": \"#E5ECF6\", \"polar\": {\"angularaxis\": {\"gridcolor\": \"white\", \"linecolor\": \"white\", \"ticks\": \"\"}, \"bgcolor\": \"#E5ECF6\", \"radialaxis\": {\"gridcolor\": \"white\", \"linecolor\": \"white\", \"ticks\": \"\"}}, \"scene\": {\"xaxis\": {\"backgroundcolor\": \"#E5ECF6\", \"gridcolor\": \"white\", \"gridwidth\": 2, \"linecolor\": \"white\", \"showbackground\": true, \"ticks\": \"\", \"zerolinecolor\": \"white\"}, \"yaxis\": {\"backgroundcolor\": \"#E5ECF6\", \"gridcolor\": \"white\", \"gridwidth\": 2, \"linecolor\": \"white\", \"showbackground\": true, \"ticks\": \"\", \"zerolinecolor\": \"white\"}, \"zaxis\": {\"backgroundcolor\": \"#E5ECF6\", \"gridcolor\": \"white\", \"gridwidth\": 2, \"linecolor\": \"white\", \"showbackground\": true, \"ticks\": \"\", \"zerolinecolor\": \"white\"}}, \"shapedefaults\": {\"line\": {\"color\": \"#2a3f5f\"}}, \"ternary\": {\"aaxis\": {\"gridcolor\": \"white\", \"linecolor\": \"white\", \"ticks\": \"\"}, \"baxis\": {\"gridcolor\": \"white\", \"linecolor\": \"white\", \"ticks\": \"\"}, \"bgcolor\": \"#E5ECF6\", \"caxis\": {\"gridcolor\": \"white\", \"linecolor\": \"white\", \"ticks\": \"\"}}, \"title\": {\"x\": 0.05}, \"xaxis\": {\"automargin\": true, \"gridcolor\": \"white\", \"linecolor\": \"white\", \"ticks\": \"\", \"title\": {\"standoff\": 15}, \"zerolinecolor\": \"white\", \"zerolinewidth\": 2}, \"yaxis\": {\"automargin\": true, \"gridcolor\": \"white\", \"linecolor\": \"white\", \"ticks\": \"\", \"title\": {\"standoff\": 15}, \"zerolinecolor\": \"white\", \"zerolinewidth\": 2}}}, \"title\": {\"text\": \"Faceted Bar Chart - Busiest Airport by Airline\"}, \"xaxis\": {\"anchor\": \"y\", \"domain\": [0.0, 0.98], \"title\": {\"text\": \"airport\"}}, \"xaxis2\": {\"anchor\": \"y2\", \"domain\": [0.0, 0.98], \"matches\": \"x\", \"showticklabels\": false}, \"xaxis3\": {\"anchor\": \"y3\", \"domain\": [0.0, 0.98], \"matches\": \"x\", \"showticklabels\": false}, \"xaxis4\": {\"anchor\": \"y4\", \"domain\": [0.0, 0.98], \"matches\": \"x\", \"showticklabels\": false}, \"yaxis\": {\"anchor\": \"x\", \"domain\": [0.0, 0.2275], \"title\": {\"text\": \"\"}}, \"yaxis2\": {\"anchor\": \"x2\", \"domain\": [0.2575, 0.485], \"matches\": \"y\", \"title\": {\"text\": \"\"}}, \"yaxis3\": {\"anchor\": \"x3\", \"domain\": [0.515, 0.7425], \"matches\": \"y\", \"title\": {\"text\": \"\"}}, \"yaxis4\": {\"anchor\": \"x4\", \"domain\": [0.7725, 1.0], \"matches\": \"y\", \"title\": {\"text\": \"\"}}},\n",
       "                        {\"responsive\": true}\n",
       "                    ).then(function(){\n",
       "                            \n",
       "var gd = document.getElementById('ebe5caf5-7cde-4cb0-9c4b-8e8159b1ac82');\n",
       "var x = new MutationObserver(function (mutations, observer) {{\n",
       "        var display = window.getComputedStyle(gd).display;\n",
       "        if (!display || display === 'none') {{\n",
       "            console.log([gd, 'removed!']);\n",
       "            Plotly.purge(gd);\n",
       "            observer.disconnect();\n",
       "        }}\n",
       "}});\n",
       "\n",
       "// Listen for the removal of the full notebook cells\n",
       "var notebookContainer = gd.closest('#notebook-container');\n",
       "if (notebookContainer) {{\n",
       "    x.observe(notebookContainer, {childList: true});\n",
       "}}\n",
       "\n",
       "// Listen for the clearing of the current output cell\n",
       "var outputEl = gd.closest('.output');\n",
       "if (outputEl) {{\n",
       "    x.observe(outputEl, {childList: true});\n",
       "}}\n",
       "\n",
       "                        })\n",
       "                };\n",
       "                });\n",
       "            </script>\n",
       "        </div>"
      ]
     },
     "metadata": {},
     "output_type": "display_data"
    }
   ],
   "source": [
    "fig = px.bar(df_busy_airports_by_airline, x = 'airport', y = 'count', facet_row = 'airline', color = 'airline',\n",
    "             title = 'Faceted Bar Chart - Busiest Airport by Airline')\n",
    "fig.for_each_annotation(lambda a: a.update(text=a.text.split(\"=\")[-1]))\n",
    "for axis in fig.layout:\n",
    "    if type(fig.layout[axis]) == go.layout.YAxis:\n",
    "        fig.layout[axis].title.text = ''\n",
    "fig.update_layout(\n",
    "    annotations = list(fig.layout.annotations) + \n",
    "    [go.layout.Annotation(\n",
    "            x=-.1,\n",
    "            y=0.5,\n",
    "            font=dict(\n",
    "                size=14\n",
    "            ),\n",
    "            showarrow=False,\n",
    "            text=\"Count of Flights\",\n",
    "            textangle=-90,\n",
    "            xref=\"paper\",\n",
    "            yref=\"paper\"\n",
    "        )\n",
    "    ]\n",
    ")        \n",
    "fig.show()"
   ]
  },
  {
   "cell_type": "markdown",
   "metadata": {},
   "source": [
    "Moving on, instead of airlines, we can also slice the data by the type of flight. So let's see how many international and local flights there are. Then we can look at the most traveled flights both within the continental USA and outside of it. Let's see if we can find the most common local and international flights."
   ]
  },
  {
   "cell_type": "code",
   "execution_count": 76,
   "metadata": {},
   "outputs": [],
   "source": [
    "# Exercise\n",
    "\n",
    "df_tof = None\n",
    "plt.bar(x = None, height = None)\n",
    "plt.title(None)\n",
    "plt.xlabel(None)\n",
    "plt.ylabel(None);"
   ]
  },
  {
   "cell_type": "code",
   "execution_count": 11,
   "metadata": {},
   "outputs": [
    {
     "data": {
      "image/png": "[encoded data removed]",
      "text/plain": [
       "<Figure size 432x288 with 1 Axes>"
      ]
     },
     "metadata": {
      "needs_background": "light"
     },
     "output_type": "display_data"
    }
   ],
   "source": [
    "# Answer\n",
    "\n",
    "df_tof = df.groupby(['type_of_flight'])['airport'].count().reset_index(name = 'count')\n",
    "\n",
    "plt.bar(x = df_tof['type_of_flight'], height = df_tof['count'] / 1000000)\n",
    "plt.title('Count of Type of Flights')\n",
    "plt.xlabel('Type of Flight')\n",
    "plt.ylabel('Count of Flights (in Millions)');"
   ]
  },
  {
   "cell_type": "markdown",
   "metadata": {},
   "source": [
    "As you may have noticed, when you plot your graph, the y-axis doesn't show the entire number, rather defaulting to the scientic way of expressing the count (eg. 3 x 10e6). It does this to help make the graph readable. However, this can be easily missed or lead to a misreading of the graph. One way to combat this is more explicitly label this in your graph. In the answer, you'll see that we divided the count by 1 million and then in the label explicitly mentioned that the numbers are in millions. This clarifies any confusion that may occur.\n",
    "\n",
    "Now let's see if you can find the most traveled flights both within and outside the continental USA. Let's just list out the top 5 most common traveled flights. "
   ]
  },
  {
   "cell_type": "code",
   "execution_count": null,
   "metadata": {},
   "outputs": [],
   "source": [
    "# Exercise Here\n",
    "# Local Flights\n",
    "\n",
    "common_local_flights = None\n",
    "print(common_local_flights)\n",
    "\n",
    "# Interational Flights\n",
    "\n",
    "common_international_flights = None\n",
    "print(common_international_flights)"
   ]
  },
  {
   "cell_type": "code",
   "execution_count": 15,
   "metadata": {},
   "outputs": [
    {
     "name": "stdout",
     "output_type": "stream",
     "text": [
      "     departure_airport destination_airport  count\n",
      "925               KDEN                KPHX   6175\n",
      "3022              KPHX                KDEN   6140\n",
      "146               KATL                KMCO   5896\n",
      "2816              KORD                KLGA   5722\n",
      "2091              KLGA                KORD   5660\n",
      "     departure_airport destination_airport  count\n",
      "1327              PHNL                KLAX   1349\n",
      "688               KLAX                PHNL   1269\n",
      "1164              MMUN                KDFW    910\n",
      "378               KDFW                MMUN    905\n",
      "779               KMIA                TJSJ    818\n"
     ]
    }
   ],
   "source": [
    "# Answer\n",
    "\n",
    "# Most common Destination Pairs within continental USA\n",
    "common_local_flights = df[df['type_of_flight'] == 'local'].groupby(['departure_airport','destination_airport'])['airport'].count().reset_index(name = 'count').sort_values('count', ascending = False).head(5)\n",
    "print(common_local_flights)\n",
    "\n",
    "# Most Common Destination Pair outside of the continental USA\n",
    "common_international_flights = df[df['type_of_flight'] != 'local'].groupby(['departure_airport','destination_airport'])['airport'].count().reset_index(name = 'count').sort_values('count', ascending = False).head(5)\n",
    "print(common_international_flights)"
   ]
  },
  {
   "cell_type": "markdown",
   "metadata": {},
   "source": [
    "Nice Job! After this notebook, you should have started to gain a familiarity with this dataset, learning how to plot a bar chart and how to group and count observations. In the next notebook, we will look at more ways to visualize data as well as deal with time. "
   ]
  },
  {
   "cell_type": "raw",
   "metadata": {},
   "source": [
    "# Only to be used when building scripts\n",
    "\n",
    "df.to_csv(r'C:\\Users\\jpau\\Documents\\Projects\\Airforce\\data\\eda_data.csv', index = False)"
   ]
  }
 ],
 "metadata": {
  "hide_input": false,
  "kernelspec": {
   "display_name": "Python 3",
   "language": "python",
   "name": "python3"
  },
  "language_info": {
   "codemirror_mode": {
    "name": "ipython",
    "version": 3
   },
   "file_extension": ".py",
   "mimetype": "text/x-python",
   "name": "python",
   "nbconvert_exporter": "python",
   "pygments_lexer": "ipython3",
   "version": "3.7.4"
  }
 },
 "nbformat": 4,
 "nbformat_minor": 4
}
